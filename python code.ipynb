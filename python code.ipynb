# import modules
import tkinter as tk
import datetime

# creating a countdown class
class Countdown(tk.Frame):
    def __init__(self, master):
        super().__init__(master)
        self.create_widgets()
        self.show_widgets()
        self.seconds_left = 0
        self._timer_on = False
        self.prev_state = ''
    
    def create_widgets(self):
        self.label = tk.Label(self, text = "Enter time in seconds: ")
        self.message = tk.Label(self, text = "NO ERROR")
        self.entry = tk.Entry(self, justify = "center")
        self.entry.focus_set()
        self.reset = tk.Button(self, text = "Reset", fg='white', bg = 'black', command = self.reset_button, height=1, width=7)
        self.stop = tk.Button(self, text = "Stop", fg='white', bg = 'red', command = self.stop_button, height=1, width=7)
        self.pause = tk.Button(self, text = "Pause", fg='white', bg = 'black', command = self.pause_button, height=1, width=7)
        self.resume = tk.Button(self, text = "Resume", fg='white', bg = 'red', command = self.resume_button, height=1, width=7)
        
    
    def show_widgets(self): # showing all the widgets
        self.label.pack()  # title of the block
        self.message.pack() # message 
        self.entry.pack()  # text box
        self.reset.pack()  # reset button
        self.stop.pack()   # stop button
        self.pause.pack()  # pause button
        self.resume.pack() # resum button

    
    def countdowntimer(self):
        self.label["text"] = datetime.timedelta(seconds = self.seconds_left) # This converts seconds left to time
        
        if self.seconds_left != 0:
            self.seconds_left -= 1
            self._timer_on = self.after(1000, self.countdowntimer) # after 1sec next coundown happens
        else:
            self._timer_on = False
            
    def reset_button(self):
        self.message["text"] = "NO ERROR"
        self.prev_state = '00'
        self.seconds_left = 0
        self.stop_timer()
        self._timer_on = False
        self.label["text"] = "Enter time in seconds:"
        self.seconds_left = int(self.entry.get()) # taking entry from the entry box
        self.countdowntimer()
        
        # replacing all the buttons
        self.reset.forget()
        self.stop.forget()
        self.pause.forget()                                                                 
        self.resume.forget()
        
        self.reset.pack()
        self.stop.pack()
        self.pause.pack()
        self.resume.pack()
        
    def stop_button(self):
        if self.prev_state == '01':
            self.message["text"] = "ERROR"
            return 
        self.message["text"] = "NO ERROR"
        self.prev_state = '01'
        self.seconds_left = int(self.entry.get())
        self.stop_timer()
        
    def pause_button(self):
        if self.prev_state == '01' or self.prev_state == '10': # if alarm is in stop stage or alredy in pause state
            self.message["text"] = "ERROR"
            return 
        self.message["text"] = "NO ERROR"
        self.prev_state = '10'
        self.stop_timer()

    def resume_button(self):
        if self.prev_state != '10': # if alarm is not in pause stage
            self.message["text"] = "ERROR"
            return 
        self.message["text"] = "NO ERROR"
        self.prev_state = '11'
        self._timer_on = True
        self.countdowntimer()
        
        # replacing all the buttons
        self.reset.forget()
        self.stop.forget()
        self.pause.forget()                                                                 
        self.resume.forget()
        
        self.reset.pack()
        self.stop.pack()
        self.pause.pack()
        self.resume.pack()
        
    def stop_timer(self):
        if self._timer_on:
            self.after_cancel(self._timer_on)
            self._timer_on = False

# main looop
if __name__ == "__main__":
    root = tk.Tk() # actual scrren
    root.resizable(False, False)
    root.geometry("270x200")
    countdown = Countdown(root)
    countdown.pack()
    root.mainloop()
